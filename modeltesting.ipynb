{
 "cells": [
  {
   "cell_type": "code",
   "execution_count": 32,
   "metadata": {},
   "outputs": [],
   "source": [
    "import cv2,numpy as np, tensorflow as tf,pandas as pd\n",
    "\n",
    "from tensorflow.keras.layers import Conv2D,MaxPooling2D,Dense,Flatten\n",
    "from tensorflow.keras.models import Sequential"
   ]
  },
  {
   "cell_type": "code",
   "execution_count": 38,
   "metadata": {},
   "outputs": [
    {
     "ename": "ValueError",
     "evalue": "Input 0 of layer \"conv2d_79\" is incompatible with the layer: expected min_ndim=4, found ndim=2. Full shape received: (None, 1048576)",
     "output_type": "error",
     "traceback": [
      "\u001b[1;31m---------------------------------------------------------------------------\u001b[0m",
      "\u001b[1;31mValueError\u001b[0m                                Traceback (most recent call last)",
      "\u001b[1;32mc:\\Users\\erikh\\objectdetectionV8\\modeltesting.ipynb Cell 2\u001b[0m line \u001b[0;36m1\n\u001b[1;32m----> <a href='vscode-notebook-cell:/c%3A/Users/erikh/objectdetectionV8/modeltesting.ipynb#W1sZmlsZQ%3D%3D?line=0'>1</a>\u001b[0m model \u001b[39m=\u001b[39m Sequential([\n\u001b[0;32m      <a href='vscode-notebook-cell:/c%3A/Users/erikh/objectdetectionV8/modeltesting.ipynb#W1sZmlsZQ%3D%3D?line=1'>2</a>\u001b[0m     Conv2D(\u001b[39m256\u001b[39;49m,(\u001b[39m1\u001b[39;49m,\u001b[39m1\u001b[39;49m),padding\u001b[39m=\u001b[39;49m\u001b[39m'\u001b[39;49m\u001b[39msame\u001b[39;49m\u001b[39m'\u001b[39;49m,input_shape\u001b[39m=\u001b[39;49m(\u001b[39m256\u001b[39;49m,\u001b[39m256\u001b[39;49m,\u001b[39m3\u001b[39;49m)),\n\u001b[0;32m      <a href='vscode-notebook-cell:/c%3A/Users/erikh/objectdetectionV8/modeltesting.ipynb#W1sZmlsZQ%3D%3D?line=2'>3</a>\u001b[0m     Conv2D(\u001b[39m128\u001b[39;49m,(\u001b[39m1\u001b[39;49m,\u001b[39m1\u001b[39;49m),padding\u001b[39m=\u001b[39;49m\u001b[39m'\u001b[39;49m\u001b[39msame\u001b[39;49m\u001b[39m'\u001b[39;49m),\n\u001b[0;32m      <a href='vscode-notebook-cell:/c%3A/Users/erikh/objectdetectionV8/modeltesting.ipynb#W1sZmlsZQ%3D%3D?line=3'>4</a>\u001b[0m     Conv2D(\u001b[39m64\u001b[39;49m,(\u001b[39m1\u001b[39;49m,\u001b[39m1\u001b[39;49m),padding\u001b[39m=\u001b[39;49m\u001b[39m'\u001b[39;49m\u001b[39msame\u001b[39;49m\u001b[39m'\u001b[39;49m),\n\u001b[0;32m      <a href='vscode-notebook-cell:/c%3A/Users/erikh/objectdetectionV8/modeltesting.ipynb#W1sZmlsZQ%3D%3D?line=4'>5</a>\u001b[0m     MaxPooling2D((\u001b[39m2\u001b[39;49m,\u001b[39m2\u001b[39;49m)),\n\u001b[0;32m      <a href='vscode-notebook-cell:/c%3A/Users/erikh/objectdetectionV8/modeltesting.ipynb#W1sZmlsZQ%3D%3D?line=5'>6</a>\u001b[0m     Conv2D(\u001b[39m128\u001b[39;49m,(\u001b[39m1\u001b[39;49m,\u001b[39m1\u001b[39;49m),padding\u001b[39m=\u001b[39;49m\u001b[39m'\u001b[39;49m\u001b[39msame\u001b[39;49m\u001b[39m'\u001b[39;49m),\n\u001b[0;32m      <a href='vscode-notebook-cell:/c%3A/Users/erikh/objectdetectionV8/modeltesting.ipynb#W1sZmlsZQ%3D%3D?line=6'>7</a>\u001b[0m     Conv2D(\u001b[39m64\u001b[39;49m,(\u001b[39m1\u001b[39;49m,\u001b[39m1\u001b[39;49m),padding\u001b[39m=\u001b[39;49m\u001b[39m'\u001b[39;49m\u001b[39msame\u001b[39;49m\u001b[39m'\u001b[39;49m),\n\u001b[0;32m      <a href='vscode-notebook-cell:/c%3A/Users/erikh/objectdetectionV8/modeltesting.ipynb#W1sZmlsZQ%3D%3D?line=7'>8</a>\u001b[0m     Flatten(),\n\u001b[0;32m      <a href='vscode-notebook-cell:/c%3A/Users/erikh/objectdetectionV8/modeltesting.ipynb#W1sZmlsZQ%3D%3D?line=8'>9</a>\u001b[0m     Conv2D(\u001b[39m128\u001b[39;49m,(\u001b[39m1\u001b[39;49m,\u001b[39m1\u001b[39;49m),padding\u001b[39m=\u001b[39;49m\u001b[39m'\u001b[39;49m\u001b[39msame\u001b[39;49m\u001b[39m'\u001b[39;49m,activation\u001b[39m=\u001b[39;49m\u001b[39m'\u001b[39;49m\u001b[39mrelu\u001b[39;49m\u001b[39m'\u001b[39;49m,input_shape\u001b[39m=\u001b[39;49m(\u001b[39m256\u001b[39;49m,\u001b[39m256\u001b[39;49m,\u001b[39m3\u001b[39;49m)),\n\u001b[0;32m     <a href='vscode-notebook-cell:/c%3A/Users/erikh/objectdetectionV8/modeltesting.ipynb#W1sZmlsZQ%3D%3D?line=9'>10</a>\u001b[0m     Conv2D(\u001b[39m64\u001b[39;49m,(\u001b[39m1\u001b[39;49m,\u001b[39m1\u001b[39;49m),padding\u001b[39m=\u001b[39;49m\u001b[39m'\u001b[39;49m\u001b[39msame\u001b[39;49m\u001b[39m'\u001b[39;49m,activation\u001b[39m=\u001b[39;49m\u001b[39m'\u001b[39;49m\u001b[39mrelu\u001b[39;49m\u001b[39m'\u001b[39;49m),\n\u001b[0;32m     <a href='vscode-notebook-cell:/c%3A/Users/erikh/objectdetectionV8/modeltesting.ipynb#W1sZmlsZQ%3D%3D?line=10'>11</a>\u001b[0m ])\n",
      "File \u001b[1;32mc:\\Users\\erikh\\objectdetectionV8\\env\\lib\\site-packages\\tensorflow\\python\\trackable\\base.py:204\u001b[0m, in \u001b[0;36mno_automatic_dependency_tracking.<locals>._method_wrapper\u001b[1;34m(self, *args, **kwargs)\u001b[0m\n\u001b[0;32m    202\u001b[0m \u001b[39mself\u001b[39m\u001b[39m.\u001b[39m_self_setattr_tracking \u001b[39m=\u001b[39m \u001b[39mFalse\u001b[39;00m  \u001b[39m# pylint: disable=protected-access\u001b[39;00m\n\u001b[0;32m    203\u001b[0m \u001b[39mtry\u001b[39;00m:\n\u001b[1;32m--> 204\u001b[0m   result \u001b[39m=\u001b[39m method(\u001b[39mself\u001b[39m, \u001b[39m*\u001b[39margs, \u001b[39m*\u001b[39m\u001b[39m*\u001b[39mkwargs)\n\u001b[0;32m    205\u001b[0m \u001b[39mfinally\u001b[39;00m:\n\u001b[0;32m    206\u001b[0m   \u001b[39mself\u001b[39m\u001b[39m.\u001b[39m_self_setattr_tracking \u001b[39m=\u001b[39m previous_value  \u001b[39m# pylint: disable=protected-access\u001b[39;00m\n",
      "File \u001b[1;32mc:\\Users\\erikh\\objectdetectionV8\\env\\lib\\site-packages\\keras\\src\\utils\\traceback_utils.py:70\u001b[0m, in \u001b[0;36mfilter_traceback.<locals>.error_handler\u001b[1;34m(*args, **kwargs)\u001b[0m\n\u001b[0;32m     67\u001b[0m     filtered_tb \u001b[39m=\u001b[39m _process_traceback_frames(e\u001b[39m.\u001b[39m__traceback__)\n\u001b[0;32m     68\u001b[0m     \u001b[39m# To get the full stack trace, call:\u001b[39;00m\n\u001b[0;32m     69\u001b[0m     \u001b[39m# `tf.debugging.disable_traceback_filtering()`\u001b[39;00m\n\u001b[1;32m---> 70\u001b[0m     \u001b[39mraise\u001b[39;00m e\u001b[39m.\u001b[39mwith_traceback(filtered_tb) \u001b[39mfrom\u001b[39;00m \u001b[39mNone\u001b[39;00m\n\u001b[0;32m     71\u001b[0m \u001b[39mfinally\u001b[39;00m:\n\u001b[0;32m     72\u001b[0m     \u001b[39mdel\u001b[39;00m filtered_tb\n",
      "File \u001b[1;32mc:\\Users\\erikh\\objectdetectionV8\\env\\lib\\site-packages\\keras\\src\\engine\\input_spec.py:253\u001b[0m, in \u001b[0;36massert_input_compatibility\u001b[1;34m(input_spec, inputs, layer_name)\u001b[0m\n\u001b[0;32m    251\u001b[0m     ndim \u001b[39m=\u001b[39m x\u001b[39m.\u001b[39mshape\u001b[39m.\u001b[39mrank\n\u001b[0;32m    252\u001b[0m     \u001b[39mif\u001b[39;00m ndim \u001b[39mis\u001b[39;00m \u001b[39mnot\u001b[39;00m \u001b[39mNone\u001b[39;00m \u001b[39mand\u001b[39;00m ndim \u001b[39m<\u001b[39m spec\u001b[39m.\u001b[39mmin_ndim:\n\u001b[1;32m--> 253\u001b[0m         \u001b[39mraise\u001b[39;00m \u001b[39mValueError\u001b[39;00m(\n\u001b[0;32m    254\u001b[0m             \u001b[39mf\u001b[39m\u001b[39m'\u001b[39m\u001b[39mInput \u001b[39m\u001b[39m{\u001b[39;00minput_index\u001b[39m}\u001b[39;00m\u001b[39m of layer \u001b[39m\u001b[39m\"\u001b[39m\u001b[39m{\u001b[39;00mlayer_name\u001b[39m}\u001b[39;00m\u001b[39m\"\u001b[39m\u001b[39m \u001b[39m\u001b[39m'\u001b[39m\n\u001b[0;32m    255\u001b[0m             \u001b[39m\"\u001b[39m\u001b[39mis incompatible with the layer: \u001b[39m\u001b[39m\"\u001b[39m\n\u001b[0;32m    256\u001b[0m             \u001b[39mf\u001b[39m\u001b[39m\"\u001b[39m\u001b[39mexpected min_ndim=\u001b[39m\u001b[39m{\u001b[39;00mspec\u001b[39m.\u001b[39mmin_ndim\u001b[39m}\u001b[39;00m\u001b[39m, \u001b[39m\u001b[39m\"\u001b[39m\n\u001b[0;32m    257\u001b[0m             \u001b[39mf\u001b[39m\u001b[39m\"\u001b[39m\u001b[39mfound ndim=\u001b[39m\u001b[39m{\u001b[39;00mndim\u001b[39m}\u001b[39;00m\u001b[39m. \u001b[39m\u001b[39m\"\u001b[39m\n\u001b[0;32m    258\u001b[0m             \u001b[39mf\u001b[39m\u001b[39m\"\u001b[39m\u001b[39mFull shape received: \u001b[39m\u001b[39m{\u001b[39;00m\u001b[39mtuple\u001b[39m(shape)\u001b[39m}\u001b[39;00m\u001b[39m\"\u001b[39m\n\u001b[0;32m    259\u001b[0m         )\n\u001b[0;32m    260\u001b[0m \u001b[39m# Check dtype.\u001b[39;00m\n\u001b[0;32m    261\u001b[0m \u001b[39mif\u001b[39;00m spec\u001b[39m.\u001b[39mdtype \u001b[39mis\u001b[39;00m \u001b[39mnot\u001b[39;00m \u001b[39mNone\u001b[39;00m:\n",
      "\u001b[1;31mValueError\u001b[0m: Input 0 of layer \"conv2d_79\" is incompatible with the layer: expected min_ndim=4, found ndim=2. Full shape received: (None, 1048576)"
     ]
    }
   ],
   "source": [
    "model = Sequential([\n",
    "    Conv2D(256,(1,1),padding='same',input_shape=(256,256,3)),\n",
    "    Conv2D(128,(1,1),padding='same'),\n",
    "    Conv2D(64,(1,1),padding='same'),\n",
    "    MaxPooling2D((2,2)),\n",
    "    Conv2D(128,(1,1),padding='same'),\n",
    "    Conv2D(64,(1,1),padding='same'),\n",
    "    Flatten(),\n",
    "    Conv2D(128,(1,1),padding='same',activation='relu',input_shape=(256,256,3)),\n",
    "    Conv2D(64,(1,1),padding='same',activation='relu'),\n",
    "])"
   ]
  },
  {
   "cell_type": "code",
   "execution_count": 35,
   "metadata": {},
   "outputs": [
    {
     "name": "stdout",
     "output_type": "stream",
     "text": [
      "Model: \"sequential_13\"\n",
      "_________________________________________________________________\n",
      " Layer (type)                Output Shape              Param #   \n",
      "=================================================================\n",
      " conv2d_62 (Conv2D)          (None, 256, 256, 256)     1024      \n",
      "                                                                 \n",
      " conv2d_63 (Conv2D)          (None, 256, 256, 128)     32896     \n",
      "                                                                 \n",
      " conv2d_64 (Conv2D)          (None, 256, 256, 64)      8256      \n",
      "                                                                 \n",
      " max_pooling2d_9 (MaxPoolin  (None, 128, 128, 64)      0         \n",
      " g2D)                                                            \n",
      "                                                                 \n",
      " conv2d_65 (Conv2D)          (None, 128, 128, 128)     8320      \n",
      "                                                                 \n",
      " conv2d_66 (Conv2D)          (None, 128, 128, 64)      8256      \n",
      "                                                                 \n",
      " flatten_1 (Flatten)         (None, 1048576)           0         \n",
      "                                                                 \n",
      "=================================================================\n",
      "Total params: 58752 (229.50 KB)\n",
      "Trainable params: 58752 (229.50 KB)\n",
      "Non-trainable params: 0 (0.00 Byte)\n",
      "_________________________________________________________________\n"
     ]
    }
   ],
   "source": [
    "model.summary()"
   ]
  },
  {
   "cell_type": "code",
   "execution_count": null,
   "metadata": {},
   "outputs": [],
   "source": []
  }
 ],
 "metadata": {
  "kernelspec": {
   "display_name": "env",
   "language": "python",
   "name": "python3"
  },
  "language_info": {
   "codemirror_mode": {
    "name": "ipython",
    "version": 3
   },
   "file_extension": ".py",
   "mimetype": "text/x-python",
   "name": "python",
   "nbconvert_exporter": "python",
   "pygments_lexer": "ipython3",
   "version": "3.10.11"
  }
 },
 "nbformat": 4,
 "nbformat_minor": 2
}
