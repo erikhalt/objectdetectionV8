{
 "cells": [
  {
   "cell_type": "code",
   "execution_count": 32,
   "metadata": {},
   "outputs": [],
   "source": [
    "import cv2,numpy as np, tensorflow as tf,pandas as pd\n",
    "\n",
    "from tensorflow.keras.layers import Conv2D,MaxPooling2D,Dense,Flatten\n",
    "from tensorflow.keras.models import Sequential"
   ]
  },
  {
   "cell_type": "code",
   "execution_count": 39,
   "metadata": {},
   "outputs": [],
   "source": [
    "model = Sequential([\n",
    "    Conv2D(256,(1,1),padding='same',input_shape=(256,256,3)),\n",
    "    Conv2D(128,(1,1),padding='same'),\n",
    "    Conv2D(64,(1,1),padding='same'),\n",
    "    MaxPooling2D((2,2)),\n",
    "    Conv2D(128,(1,1),padding='same'),\n",
    "    Conv2D(64,(1,1),padding='same'),\n",
    "    Flatten(),\n",
    "    Dense(80)\n",
    "])"
   ]
  },
  {
   "cell_type": "code",
   "execution_count": 40,
   "metadata": {},
   "outputs": [
    {
     "name": "stdout",
     "output_type": "stream",
     "text": [
      "Model: \"sequential_16\"\n",
      "_________________________________________________________________\n",
      " Layer (type)                Output Shape              Param #   \n",
      "=================================================================\n",
      " conv2d_81 (Conv2D)          (None, 256, 256, 256)     1024      \n",
      "                                                                 \n",
      " conv2d_82 (Conv2D)          (None, 256, 256, 128)     32896     \n",
      "                                                                 \n",
      " conv2d_83 (Conv2D)          (None, 256, 256, 64)      8256      \n",
      "                                                                 \n",
      " max_pooling2d_12 (MaxPooli  (None, 128, 128, 64)      0         \n",
      " ng2D)                                                           \n",
      "                                                                 \n",
      " conv2d_84 (Conv2D)          (None, 128, 128, 128)     8320      \n",
      "                                                                 \n",
      " conv2d_85 (Conv2D)          (None, 128, 128, 64)      8256      \n",
      "                                                                 \n",
      " flatten_4 (Flatten)         (None, 1048576)           0         \n",
      "                                                                 \n",
      " dense (Dense)               (None, 80)                83886160  \n",
      "                                                                 \n",
      "=================================================================\n",
      "Total params: 83944912 (320.22 MB)\n",
      "Trainable params: 83944912 (320.22 MB)\n",
      "Non-trainable params: 0 (0.00 Byte)\n",
      "_________________________________________________________________\n"
     ]
    }
   ],
   "source": [
    "model.summary()"
   ]
  },
  {
   "cell_type": "code",
   "execution_count": null,
   "metadata": {},
   "outputs": [],
   "source": []
  }
 ],
 "metadata": {
  "kernelspec": {
   "display_name": "env",
   "language": "python",
   "name": "python3"
  },
  "language_info": {
   "codemirror_mode": {
    "name": "ipython",
    "version": 3
   },
   "file_extension": ".py",
   "mimetype": "text/x-python",
   "name": "python",
   "nbconvert_exporter": "python",
   "pygments_lexer": "ipython3",
   "version": "3.10.11"
  }
 },
 "nbformat": 4,
 "nbformat_minor": 2
}
